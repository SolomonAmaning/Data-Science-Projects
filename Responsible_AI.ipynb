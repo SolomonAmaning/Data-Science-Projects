{
  "nbformat": 4,
  "nbformat_minor": 0,
  "metadata": {
    "colab": {
      "provenance": [],
      "mount_file_id": "1Dwv-pDnTCtMYKt8u2AO31bCYvZJlkSOE",
      "authorship_tag": "ABX9TyPcYjH2VGBkXy3trhEKD7D0",
      "include_colab_link": true
    },
    "kernelspec": {
      "name": "python3",
      "display_name": "Python 3"
    },
    "language_info": {
      "name": "python"
    },
    "accelerator": "GPU",
    "gpuClass": "standard"
  },
  "cells": [
    {
      "cell_type": "markdown",
      "metadata": {
        "id": "view-in-github",
        "colab_type": "text"
      },
      "source": [
        "<a href=\"https://colab.research.google.com/github/SolomonAmaning/Data-Science-Projects/blob/main/Responsible_AI.ipynb\" target=\"_parent\"><img src=\"https://colab.research.google.com/assets/colab-badge.svg\" alt=\"Open In Colab\"/></a>"
      ]
    },
    {
      "cell_type": "markdown",
      "source": [
        "## Assignment..."
      ],
      "metadata": {
        "id": "LjSZGQf_okX1"
      }
    },
    {
      "cell_type": "markdown",
      "source": [
        "Implement one among cosine similarity,distance method,mutual information to detect proxies"
      ],
      "metadata": {
        "id": "QwDk5X2xouCE"
      }
    },
    {
      "cell_type": "code",
      "source": [
        "import pandas as pd\n",
        "import numpy as np\n",
        "from sklearn.metrics.pairwise import cosine_similarity\n",
        "from sklearn.preprocessing import StandardScaler\n",
        "from sklearn.decomposition import PCA\n",
        "from sklearn.metrics import pairwise_distances\n",
        "import matplotlib.pyplot as plt\n",
        "import seaborn as sns\n",
        "from sklearn.metrics.pairwise import cosine_similarity"
      ],
      "metadata": {
        "id": "ZwvTxd_RqHjx"
      },
      "execution_count": 2,
      "outputs": []
    },
    {
      "cell_type": "code",
      "execution_count": 3,
      "metadata": {
        "id": "ZvWwPW3OoMA0"
      },
      "outputs": [],
      "source": [
        "data=pd.read_csv(\"/content/drive/MyDrive/Responsible AI assignment/compas-scores-raw.csv\")"
      ]
    },
    {
      "cell_type": "code",
      "source": [
        "data.head(5)"
      ],
      "metadata": {
        "colab": {
          "base_uri": "https://localhost:8080/",
          "height": 403
        },
        "id": "Y2Su4ULpooyl",
        "outputId": "e409ada8-ca8b-4ba3-c64a-76a0852fa5da"
      },
      "execution_count": 4,
      "outputs": [
        {
          "output_type": "execute_result",
          "data": {
            "text/plain": [
              "   Person_ID  AssessmentID  Case_ID Agency_Text LastName FirstName MiddleName  \\\n",
              "0      50844         57167    51950    PRETRIAL   Fisher     Kevin        NaN   \n",
              "1      50844         57167    51950    PRETRIAL   Fisher     Kevin        NaN   \n",
              "2      50844         57167    51950    PRETRIAL   Fisher     Kevin        NaN   \n",
              "3      50848         57174    51956    PRETRIAL  KENDALL     KEVIN        NaN   \n",
              "4      50848         57174    51956    PRETRIAL  KENDALL     KEVIN        NaN   \n",
              "\n",
              "  Sex_Code_Text Ethnic_Code_Text DateOfBirth  ...  RecSupervisionLevel  \\\n",
              "0          Male        Caucasian    12/05/92  ...                    1   \n",
              "1          Male        Caucasian    12/05/92  ...                    1   \n",
              "2          Male        Caucasian    12/05/92  ...                    1   \n",
              "3          Male        Caucasian    09/16/84  ...                    1   \n",
              "4          Male        Caucasian    09/16/84  ...                    1   \n",
              "\n",
              "  RecSupervisionLevelText Scale_ID                DisplayText RawScore  \\\n",
              "0                     Low        7           Risk of Violence    -2.08   \n",
              "1                     Low        8         Risk of Recidivism    -1.06   \n",
              "2                     Low       18  Risk of Failure to Appear    15.00   \n",
              "3                     Low        7           Risk of Violence    -2.84   \n",
              "4                     Low        8         Risk of Recidivism    -1.50   \n",
              "\n",
              "  DecileScore ScoreText AssessmentType  IsCompleted IsDeleted  \n",
              "0           4       Low            New            1         0  \n",
              "1           2       Low            New            1         0  \n",
              "2           1       Low            New            1         0  \n",
              "3           2       Low            New            1         0  \n",
              "4           1       Low            New            1         0  \n",
              "\n",
              "[5 rows x 28 columns]"
            ],
            "text/html": [
              "\n",
              "  <div id=\"df-c6ad4381-b4f0-43ab-a138-eee550a00ad1\">\n",
              "    <div class=\"colab-df-container\">\n",
              "      <div>\n",
              "<style scoped>\n",
              "    .dataframe tbody tr th:only-of-type {\n",
              "        vertical-align: middle;\n",
              "    }\n",
              "\n",
              "    .dataframe tbody tr th {\n",
              "        vertical-align: top;\n",
              "    }\n",
              "\n",
              "    .dataframe thead th {\n",
              "        text-align: right;\n",
              "    }\n",
              "</style>\n",
              "<table border=\"1\" class=\"dataframe\">\n",
              "  <thead>\n",
              "    <tr style=\"text-align: right;\">\n",
              "      <th></th>\n",
              "      <th>Person_ID</th>\n",
              "      <th>AssessmentID</th>\n",
              "      <th>Case_ID</th>\n",
              "      <th>Agency_Text</th>\n",
              "      <th>LastName</th>\n",
              "      <th>FirstName</th>\n",
              "      <th>MiddleName</th>\n",
              "      <th>Sex_Code_Text</th>\n",
              "      <th>Ethnic_Code_Text</th>\n",
              "      <th>DateOfBirth</th>\n",
              "      <th>...</th>\n",
              "      <th>RecSupervisionLevel</th>\n",
              "      <th>RecSupervisionLevelText</th>\n",
              "      <th>Scale_ID</th>\n",
              "      <th>DisplayText</th>\n",
              "      <th>RawScore</th>\n",
              "      <th>DecileScore</th>\n",
              "      <th>ScoreText</th>\n",
              "      <th>AssessmentType</th>\n",
              "      <th>IsCompleted</th>\n",
              "      <th>IsDeleted</th>\n",
              "    </tr>\n",
              "  </thead>\n",
              "  <tbody>\n",
              "    <tr>\n",
              "      <th>0</th>\n",
              "      <td>50844</td>\n",
              "      <td>57167</td>\n",
              "      <td>51950</td>\n",
              "      <td>PRETRIAL</td>\n",
              "      <td>Fisher</td>\n",
              "      <td>Kevin</td>\n",
              "      <td>NaN</td>\n",
              "      <td>Male</td>\n",
              "      <td>Caucasian</td>\n",
              "      <td>12/05/92</td>\n",
              "      <td>...</td>\n",
              "      <td>1</td>\n",
              "      <td>Low</td>\n",
              "      <td>7</td>\n",
              "      <td>Risk of Violence</td>\n",
              "      <td>-2.08</td>\n",
              "      <td>4</td>\n",
              "      <td>Low</td>\n",
              "      <td>New</td>\n",
              "      <td>1</td>\n",
              "      <td>0</td>\n",
              "    </tr>\n",
              "    <tr>\n",
              "      <th>1</th>\n",
              "      <td>50844</td>\n",
              "      <td>57167</td>\n",
              "      <td>51950</td>\n",
              "      <td>PRETRIAL</td>\n",
              "      <td>Fisher</td>\n",
              "      <td>Kevin</td>\n",
              "      <td>NaN</td>\n",
              "      <td>Male</td>\n",
              "      <td>Caucasian</td>\n",
              "      <td>12/05/92</td>\n",
              "      <td>...</td>\n",
              "      <td>1</td>\n",
              "      <td>Low</td>\n",
              "      <td>8</td>\n",
              "      <td>Risk of Recidivism</td>\n",
              "      <td>-1.06</td>\n",
              "      <td>2</td>\n",
              "      <td>Low</td>\n",
              "      <td>New</td>\n",
              "      <td>1</td>\n",
              "      <td>0</td>\n",
              "    </tr>\n",
              "    <tr>\n",
              "      <th>2</th>\n",
              "      <td>50844</td>\n",
              "      <td>57167</td>\n",
              "      <td>51950</td>\n",
              "      <td>PRETRIAL</td>\n",
              "      <td>Fisher</td>\n",
              "      <td>Kevin</td>\n",
              "      <td>NaN</td>\n",
              "      <td>Male</td>\n",
              "      <td>Caucasian</td>\n",
              "      <td>12/05/92</td>\n",
              "      <td>...</td>\n",
              "      <td>1</td>\n",
              "      <td>Low</td>\n",
              "      <td>18</td>\n",
              "      <td>Risk of Failure to Appear</td>\n",
              "      <td>15.00</td>\n",
              "      <td>1</td>\n",
              "      <td>Low</td>\n",
              "      <td>New</td>\n",
              "      <td>1</td>\n",
              "      <td>0</td>\n",
              "    </tr>\n",
              "    <tr>\n",
              "      <th>3</th>\n",
              "      <td>50848</td>\n",
              "      <td>57174</td>\n",
              "      <td>51956</td>\n",
              "      <td>PRETRIAL</td>\n",
              "      <td>KENDALL</td>\n",
              "      <td>KEVIN</td>\n",
              "      <td>NaN</td>\n",
              "      <td>Male</td>\n",
              "      <td>Caucasian</td>\n",
              "      <td>09/16/84</td>\n",
              "      <td>...</td>\n",
              "      <td>1</td>\n",
              "      <td>Low</td>\n",
              "      <td>7</td>\n",
              "      <td>Risk of Violence</td>\n",
              "      <td>-2.84</td>\n",
              "      <td>2</td>\n",
              "      <td>Low</td>\n",
              "      <td>New</td>\n",
              "      <td>1</td>\n",
              "      <td>0</td>\n",
              "    </tr>\n",
              "    <tr>\n",
              "      <th>4</th>\n",
              "      <td>50848</td>\n",
              "      <td>57174</td>\n",
              "      <td>51956</td>\n",
              "      <td>PRETRIAL</td>\n",
              "      <td>KENDALL</td>\n",
              "      <td>KEVIN</td>\n",
              "      <td>NaN</td>\n",
              "      <td>Male</td>\n",
              "      <td>Caucasian</td>\n",
              "      <td>09/16/84</td>\n",
              "      <td>...</td>\n",
              "      <td>1</td>\n",
              "      <td>Low</td>\n",
              "      <td>8</td>\n",
              "      <td>Risk of Recidivism</td>\n",
              "      <td>-1.50</td>\n",
              "      <td>1</td>\n",
              "      <td>Low</td>\n",
              "      <td>New</td>\n",
              "      <td>1</td>\n",
              "      <td>0</td>\n",
              "    </tr>\n",
              "  </tbody>\n",
              "</table>\n",
              "<p>5 rows × 28 columns</p>\n",
              "</div>\n",
              "      <button class=\"colab-df-convert\" onclick=\"convertToInteractive('df-c6ad4381-b4f0-43ab-a138-eee550a00ad1')\"\n",
              "              title=\"Convert this dataframe to an interactive table.\"\n",
              "              style=\"display:none;\">\n",
              "        \n",
              "  <svg xmlns=\"http://www.w3.org/2000/svg\" height=\"24px\"viewBox=\"0 0 24 24\"\n",
              "       width=\"24px\">\n",
              "    <path d=\"M0 0h24v24H0V0z\" fill=\"none\"/>\n",
              "    <path d=\"M18.56 5.44l.94 2.06.94-2.06 2.06-.94-2.06-.94-.94-2.06-.94 2.06-2.06.94zm-11 1L8.5 8.5l.94-2.06 2.06-.94-2.06-.94L8.5 2.5l-.94 2.06-2.06.94zm10 10l.94 2.06.94-2.06 2.06-.94-2.06-.94-.94-2.06-.94 2.06-2.06.94z\"/><path d=\"M17.41 7.96l-1.37-1.37c-.4-.4-.92-.59-1.43-.59-.52 0-1.04.2-1.43.59L10.3 9.45l-7.72 7.72c-.78.78-.78 2.05 0 2.83L4 21.41c.39.39.9.59 1.41.59.51 0 1.02-.2 1.41-.59l7.78-7.78 2.81-2.81c.8-.78.8-2.07 0-2.86zM5.41 20L4 18.59l7.72-7.72 1.47 1.35L5.41 20z\"/>\n",
              "  </svg>\n",
              "      </button>\n",
              "      \n",
              "  <style>\n",
              "    .colab-df-container {\n",
              "      display:flex;\n",
              "      flex-wrap:wrap;\n",
              "      gap: 12px;\n",
              "    }\n",
              "\n",
              "    .colab-df-convert {\n",
              "      background-color: #E8F0FE;\n",
              "      border: none;\n",
              "      border-radius: 50%;\n",
              "      cursor: pointer;\n",
              "      display: none;\n",
              "      fill: #1967D2;\n",
              "      height: 32px;\n",
              "      padding: 0 0 0 0;\n",
              "      width: 32px;\n",
              "    }\n",
              "\n",
              "    .colab-df-convert:hover {\n",
              "      background-color: #E2EBFA;\n",
              "      box-shadow: 0px 1px 2px rgba(60, 64, 67, 0.3), 0px 1px 3px 1px rgba(60, 64, 67, 0.15);\n",
              "      fill: #174EA6;\n",
              "    }\n",
              "\n",
              "    [theme=dark] .colab-df-convert {\n",
              "      background-color: #3B4455;\n",
              "      fill: #D2E3FC;\n",
              "    }\n",
              "\n",
              "    [theme=dark] .colab-df-convert:hover {\n",
              "      background-color: #434B5C;\n",
              "      box-shadow: 0px 1px 3px 1px rgba(0, 0, 0, 0.15);\n",
              "      filter: drop-shadow(0px 1px 2px rgba(0, 0, 0, 0.3));\n",
              "      fill: #FFFFFF;\n",
              "    }\n",
              "  </style>\n",
              "\n",
              "      <script>\n",
              "        const buttonEl =\n",
              "          document.querySelector('#df-c6ad4381-b4f0-43ab-a138-eee550a00ad1 button.colab-df-convert');\n",
              "        buttonEl.style.display =\n",
              "          google.colab.kernel.accessAllowed ? 'block' : 'none';\n",
              "\n",
              "        async function convertToInteractive(key) {\n",
              "          const element = document.querySelector('#df-c6ad4381-b4f0-43ab-a138-eee550a00ad1');\n",
              "          const dataTable =\n",
              "            await google.colab.kernel.invokeFunction('convertToInteractive',\n",
              "                                                     [key], {});\n",
              "          if (!dataTable) return;\n",
              "\n",
              "          const docLinkHtml = 'Like what you see? Visit the ' +\n",
              "            '<a target=\"_blank\" href=https://colab.research.google.com/notebooks/data_table.ipynb>data table notebook</a>'\n",
              "            + ' to learn more about interactive tables.';\n",
              "          element.innerHTML = '';\n",
              "          dataTable['output_type'] = 'display_data';\n",
              "          await google.colab.output.renderOutput(dataTable, element);\n",
              "          const docLink = document.createElement('div');\n",
              "          docLink.innerHTML = docLinkHtml;\n",
              "          element.appendChild(docLink);\n",
              "        }\n",
              "      </script>\n",
              "    </div>\n",
              "  </div>\n",
              "  "
            ]
          },
          "metadata": {},
          "execution_count": 4
        }
      ]
    },
    {
      "cell_type": "code",
      "source": [
        "data.isnull().sum()"
      ],
      "metadata": {
        "colab": {
          "base_uri": "https://localhost:8080/"
        },
        "id": "UwHIdaxTqdgk",
        "outputId": "994fc77b-c4b9-45ba-8cbf-276df5a45f38"
      },
      "execution_count": 5,
      "outputs": [
        {
          "output_type": "execute_result",
          "data": {
            "text/plain": [
              "Person_ID                      0\n",
              "AssessmentID                   0\n",
              "Case_ID                        0\n",
              "Agency_Text                    0\n",
              "LastName                       0\n",
              "FirstName                      0\n",
              "MiddleName                 45195\n",
              "Sex_Code_Text                  0\n",
              "Ethnic_Code_Text               0\n",
              "DateOfBirth                    0\n",
              "ScaleSet_ID                    0\n",
              "ScaleSet                       0\n",
              "AssessmentReason               0\n",
              "Language                       0\n",
              "LegalStatus                    0\n",
              "CustodyStatus                  0\n",
              "MaritalStatus                  0\n",
              "Screening_Date                 0\n",
              "RecSupervisionLevel            0\n",
              "RecSupervisionLevelText        0\n",
              "Scale_ID                       0\n",
              "DisplayText                    0\n",
              "RawScore                       0\n",
              "DecileScore                    0\n",
              "ScoreText                     45\n",
              "AssessmentType                 0\n",
              "IsCompleted                    0\n",
              "IsDeleted                      0\n",
              "dtype: int64"
            ]
          },
          "metadata": {},
          "execution_count": 5
        }
      ]
    },
    {
      "cell_type": "code",
      "source": [
        "data.drop(columns=['MiddleName','ScoreText'], axis=1, inplace=True)"
      ],
      "metadata": {
        "id": "nJWEg9pwqory"
      },
      "execution_count": 6,
      "outputs": []
    },
    {
      "cell_type": "code",
      "source": [
        "data.isnull().sum()"
      ],
      "metadata": {
        "colab": {
          "base_uri": "https://localhost:8080/"
        },
        "id": "_4zpeMdyrDBg",
        "outputId": "a42dc794-88e5-4957-adec-a835151de686"
      },
      "execution_count": 7,
      "outputs": [
        {
          "output_type": "execute_result",
          "data": {
            "text/plain": [
              "Person_ID                  0\n",
              "AssessmentID               0\n",
              "Case_ID                    0\n",
              "Agency_Text                0\n",
              "LastName                   0\n",
              "FirstName                  0\n",
              "Sex_Code_Text              0\n",
              "Ethnic_Code_Text           0\n",
              "DateOfBirth                0\n",
              "ScaleSet_ID                0\n",
              "ScaleSet                   0\n",
              "AssessmentReason           0\n",
              "Language                   0\n",
              "LegalStatus                0\n",
              "CustodyStatus              0\n",
              "MaritalStatus              0\n",
              "Screening_Date             0\n",
              "RecSupervisionLevel        0\n",
              "RecSupervisionLevelText    0\n",
              "Scale_ID                   0\n",
              "DisplayText                0\n",
              "RawScore                   0\n",
              "DecileScore                0\n",
              "AssessmentType             0\n",
              "IsCompleted                0\n",
              "IsDeleted                  0\n",
              "dtype: int64"
            ]
          },
          "metadata": {},
          "execution_count": 7
        }
      ]
    },
    {
      "cell_type": "code",
      "source": [
        "# checking categorical variables\n",
        "cat_vars = data.select_dtypes(include='object')\n",
        "cat_vars.columns"
      ],
      "metadata": {
        "colab": {
          "base_uri": "https://localhost:8080/"
        },
        "id": "1D-qm8k_JKY3",
        "outputId": "5fc056db-1e97-4d65-e02e-ef07565c3089"
      },
      "execution_count": 8,
      "outputs": [
        {
          "output_type": "execute_result",
          "data": {
            "text/plain": [
              "Index(['Agency_Text', 'LastName', 'FirstName', 'Sex_Code_Text',\n",
              "       'Ethnic_Code_Text', 'DateOfBirth', 'ScaleSet', 'AssessmentReason',\n",
              "       'Language', 'LegalStatus', 'CustodyStatus', 'MaritalStatus',\n",
              "       'Screening_Date', 'RecSupervisionLevelText', 'DisplayText',\n",
              "       'AssessmentType'],\n",
              "      dtype='object')"
            ]
          },
          "metadata": {},
          "execution_count": 8
        }
      ]
    },
    {
      "cell_type": "code",
      "source": [
        "data.shape"
      ],
      "metadata": {
        "colab": {
          "base_uri": "https://localhost:8080/"
        },
        "id": "41dVk9ELrHLf",
        "outputId": "145156e9-4bd1-44a0-97aa-b2a03810c80b"
      },
      "execution_count": 9,
      "outputs": [
        {
          "output_type": "execute_result",
          "data": {
            "text/plain": [
              "(60843, 26)"
            ]
          },
          "metadata": {},
          "execution_count": 9
        }
      ]
    },
    {
      "cell_type": "markdown",
      "source": [
        "##Applying one hot encoding to the categorical variables"
      ],
      "metadata": {
        "id": "h5emqZHca9m5"
      }
    },
    {
      "cell_type": "code",
      "source": [
        "data_encoded = pd.get_dummies(data, columns=['Agency_Text', 'LastName', 'FirstName', 'Sex_Code_Text',\n",
        "       'Ethnic_Code_Text', 'DateOfBirth', 'ScaleSet', 'AssessmentReason',\n",
        "       'Language', 'LegalStatus', 'CustodyStatus', 'MaritalStatus',\n",
        "       'Screening_Date', 'RecSupervisionLevelText', 'DisplayText',\n",
        "       'AssessmentType'\n",
        "],drop_first=True)"
      ],
      "metadata": {
        "id": "M2h4MDnxGiFt"
      },
      "execution_count": 10,
      "outputs": []
    },
    {
      "cell_type": "markdown",
      "source": [
        "## Converting the categorical variables to integers"
      ],
      "metadata": {
        "id": "V-TXJYBHbDNx"
      }
    },
    {
      "cell_type": "code",
      "source": [
        "columns_to_convert = ['Agency_Text', 'LastName', 'FirstName','Sex_Code_Text',\n",
        "       'Ethnic_Code_Text', 'DateOfBirth', 'ScaleSet', 'AssessmentReason',\n",
        "       'Language', 'LegalStatus', 'CustodyStatus', 'MaritalStatus',\n",
        "       'Screening_Date', 'RecSupervisionLevelText', 'DisplayText',\n",
        "       'AssessmentType']\n",
        "\n",
        "for column in columns_to_convert:\n",
        "    data[column] = pd.factorize(data[column])[0]"
      ],
      "metadata": {
        "id": "0WdUrxp4X2CA"
      },
      "execution_count": 11,
      "outputs": []
    },
    {
      "cell_type": "code",
      "source": [
        "data.shape"
      ],
      "metadata": {
        "colab": {
          "base_uri": "https://localhost:8080/"
        },
        "id": "z5oQ9dgQKThk",
        "outputId": "21c32194-d609-4ca0-f53d-5cd9084a15cd"
      },
      "execution_count": 12,
      "outputs": [
        {
          "output_type": "execute_result",
          "data": {
            "text/plain": [
              "(60843, 26)"
            ]
          },
          "metadata": {},
          "execution_count": 12
        }
      ]
    },
    {
      "cell_type": "code",
      "source": [
        "data.dtypes"
      ],
      "metadata": {
        "colab": {
          "base_uri": "https://localhost:8080/"
        },
        "id": "pK9-zaRZOIlV",
        "outputId": "282271e8-824f-4ca0-8b60-a51a9d544d2b"
      },
      "execution_count": 13,
      "outputs": [
        {
          "output_type": "execute_result",
          "data": {
            "text/plain": [
              "Person_ID                    int64\n",
              "AssessmentID                 int64\n",
              "Case_ID                      int64\n",
              "Agency_Text                  int64\n",
              "LastName                     int64\n",
              "FirstName                    int64\n",
              "Sex_Code_Text                int64\n",
              "Ethnic_Code_Text             int64\n",
              "DateOfBirth                  int64\n",
              "ScaleSet_ID                  int64\n",
              "ScaleSet                     int64\n",
              "AssessmentReason             int64\n",
              "Language                     int64\n",
              "LegalStatus                  int64\n",
              "CustodyStatus                int64\n",
              "MaritalStatus                int64\n",
              "Screening_Date               int64\n",
              "RecSupervisionLevel          int64\n",
              "RecSupervisionLevelText      int64\n",
              "Scale_ID                     int64\n",
              "DisplayText                  int64\n",
              "RawScore                   float64\n",
              "DecileScore                  int64\n",
              "AssessmentType               int64\n",
              "IsCompleted                  int64\n",
              "IsDeleted                    int64\n",
              "dtype: object"
            ]
          },
          "metadata": {},
          "execution_count": 13
        }
      ]
    },
    {
      "cell_type": "code",
      "source": [
        "data.head(1)"
      ],
      "metadata": {
        "colab": {
          "base_uri": "https://localhost:8080/",
          "height": 174
        },
        "id": "m4v5TztFMGL7",
        "outputId": "2b761819-5a45-40a6-d071-75012c31312f"
      },
      "execution_count": 14,
      "outputs": [
        {
          "output_type": "execute_result",
          "data": {
            "text/plain": [
              "   Person_ID  AssessmentID  Case_ID  Agency_Text  LastName  FirstName  \\\n",
              "0      50844         57167    51950            0         0          0   \n",
              "\n",
              "   Sex_Code_Text  Ethnic_Code_Text  DateOfBirth  ScaleSet_ID  ...  \\\n",
              "0              0                 0            0           22  ...   \n",
              "\n",
              "   Screening_Date  RecSupervisionLevel  RecSupervisionLevelText  Scale_ID  \\\n",
              "0               0                    1                        0         7   \n",
              "\n",
              "   DisplayText  RawScore  DecileScore  AssessmentType  IsCompleted  IsDeleted  \n",
              "0            0     -2.08            4               0            1          0  \n",
              "\n",
              "[1 rows x 26 columns]"
            ],
            "text/html": [
              "\n",
              "  <div id=\"df-eb19e81c-1b3e-46b8-87b1-6c09c3553b13\">\n",
              "    <div class=\"colab-df-container\">\n",
              "      <div>\n",
              "<style scoped>\n",
              "    .dataframe tbody tr th:only-of-type {\n",
              "        vertical-align: middle;\n",
              "    }\n",
              "\n",
              "    .dataframe tbody tr th {\n",
              "        vertical-align: top;\n",
              "    }\n",
              "\n",
              "    .dataframe thead th {\n",
              "        text-align: right;\n",
              "    }\n",
              "</style>\n",
              "<table border=\"1\" class=\"dataframe\">\n",
              "  <thead>\n",
              "    <tr style=\"text-align: right;\">\n",
              "      <th></th>\n",
              "      <th>Person_ID</th>\n",
              "      <th>AssessmentID</th>\n",
              "      <th>Case_ID</th>\n",
              "      <th>Agency_Text</th>\n",
              "      <th>LastName</th>\n",
              "      <th>FirstName</th>\n",
              "      <th>Sex_Code_Text</th>\n",
              "      <th>Ethnic_Code_Text</th>\n",
              "      <th>DateOfBirth</th>\n",
              "      <th>ScaleSet_ID</th>\n",
              "      <th>...</th>\n",
              "      <th>Screening_Date</th>\n",
              "      <th>RecSupervisionLevel</th>\n",
              "      <th>RecSupervisionLevelText</th>\n",
              "      <th>Scale_ID</th>\n",
              "      <th>DisplayText</th>\n",
              "      <th>RawScore</th>\n",
              "      <th>DecileScore</th>\n",
              "      <th>AssessmentType</th>\n",
              "      <th>IsCompleted</th>\n",
              "      <th>IsDeleted</th>\n",
              "    </tr>\n",
              "  </thead>\n",
              "  <tbody>\n",
              "    <tr>\n",
              "      <th>0</th>\n",
              "      <td>50844</td>\n",
              "      <td>57167</td>\n",
              "      <td>51950</td>\n",
              "      <td>0</td>\n",
              "      <td>0</td>\n",
              "      <td>0</td>\n",
              "      <td>0</td>\n",
              "      <td>0</td>\n",
              "      <td>0</td>\n",
              "      <td>22</td>\n",
              "      <td>...</td>\n",
              "      <td>0</td>\n",
              "      <td>1</td>\n",
              "      <td>0</td>\n",
              "      <td>7</td>\n",
              "      <td>0</td>\n",
              "      <td>-2.08</td>\n",
              "      <td>4</td>\n",
              "      <td>0</td>\n",
              "      <td>1</td>\n",
              "      <td>0</td>\n",
              "    </tr>\n",
              "  </tbody>\n",
              "</table>\n",
              "<p>1 rows × 26 columns</p>\n",
              "</div>\n",
              "      <button class=\"colab-df-convert\" onclick=\"convertToInteractive('df-eb19e81c-1b3e-46b8-87b1-6c09c3553b13')\"\n",
              "              title=\"Convert this dataframe to an interactive table.\"\n",
              "              style=\"display:none;\">\n",
              "        \n",
              "  <svg xmlns=\"http://www.w3.org/2000/svg\" height=\"24px\"viewBox=\"0 0 24 24\"\n",
              "       width=\"24px\">\n",
              "    <path d=\"M0 0h24v24H0V0z\" fill=\"none\"/>\n",
              "    <path d=\"M18.56 5.44l.94 2.06.94-2.06 2.06-.94-2.06-.94-.94-2.06-.94 2.06-2.06.94zm-11 1L8.5 8.5l.94-2.06 2.06-.94-2.06-.94L8.5 2.5l-.94 2.06-2.06.94zm10 10l.94 2.06.94-2.06 2.06-.94-2.06-.94-.94-2.06-.94 2.06-2.06.94z\"/><path d=\"M17.41 7.96l-1.37-1.37c-.4-.4-.92-.59-1.43-.59-.52 0-1.04.2-1.43.59L10.3 9.45l-7.72 7.72c-.78.78-.78 2.05 0 2.83L4 21.41c.39.39.9.59 1.41.59.51 0 1.02-.2 1.41-.59l7.78-7.78 2.81-2.81c.8-.78.8-2.07 0-2.86zM5.41 20L4 18.59l7.72-7.72 1.47 1.35L5.41 20z\"/>\n",
              "  </svg>\n",
              "      </button>\n",
              "      \n",
              "  <style>\n",
              "    .colab-df-container {\n",
              "      display:flex;\n",
              "      flex-wrap:wrap;\n",
              "      gap: 12px;\n",
              "    }\n",
              "\n",
              "    .colab-df-convert {\n",
              "      background-color: #E8F0FE;\n",
              "      border: none;\n",
              "      border-radius: 50%;\n",
              "      cursor: pointer;\n",
              "      display: none;\n",
              "      fill: #1967D2;\n",
              "      height: 32px;\n",
              "      padding: 0 0 0 0;\n",
              "      width: 32px;\n",
              "    }\n",
              "\n",
              "    .colab-df-convert:hover {\n",
              "      background-color: #E2EBFA;\n",
              "      box-shadow: 0px 1px 2px rgba(60, 64, 67, 0.3), 0px 1px 3px 1px rgba(60, 64, 67, 0.15);\n",
              "      fill: #174EA6;\n",
              "    }\n",
              "\n",
              "    [theme=dark] .colab-df-convert {\n",
              "      background-color: #3B4455;\n",
              "      fill: #D2E3FC;\n",
              "    }\n",
              "\n",
              "    [theme=dark] .colab-df-convert:hover {\n",
              "      background-color: #434B5C;\n",
              "      box-shadow: 0px 1px 3px 1px rgba(0, 0, 0, 0.15);\n",
              "      filter: drop-shadow(0px 1px 2px rgba(0, 0, 0, 0.3));\n",
              "      fill: #FFFFFF;\n",
              "    }\n",
              "  </style>\n",
              "\n",
              "      <script>\n",
              "        const buttonEl =\n",
              "          document.querySelector('#df-eb19e81c-1b3e-46b8-87b1-6c09c3553b13 button.colab-df-convert');\n",
              "        buttonEl.style.display =\n",
              "          google.colab.kernel.accessAllowed ? 'block' : 'none';\n",
              "\n",
              "        async function convertToInteractive(key) {\n",
              "          const element = document.querySelector('#df-eb19e81c-1b3e-46b8-87b1-6c09c3553b13');\n",
              "          const dataTable =\n",
              "            await google.colab.kernel.invokeFunction('convertToInteractive',\n",
              "                                                     [key], {});\n",
              "          if (!dataTable) return;\n",
              "\n",
              "          const docLinkHtml = 'Like what you see? Visit the ' +\n",
              "            '<a target=\"_blank\" href=https://colab.research.google.com/notebooks/data_table.ipynb>data table notebook</a>'\n",
              "            + ' to learn more about interactive tables.';\n",
              "          element.innerHTML = '';\n",
              "          dataTable['output_type'] = 'display_data';\n",
              "          await google.colab.output.renderOutput(dataTable, element);\n",
              "          const docLink = document.createElement('div');\n",
              "          docLink.innerHTML = docLinkHtml;\n",
              "          element.appendChild(docLink);\n",
              "        }\n",
              "      </script>\n",
              "    </div>\n",
              "  </div>\n",
              "  "
            ]
          },
          "metadata": {},
          "execution_count": 14
        }
      ]
    },
    {
      "cell_type": "markdown",
      "source": [
        "##Standardizing the variables\n",
        "\n"
      ],
      "metadata": {
        "id": "VxnEKzlZK0sb"
      }
    },
    {
      "cell_type": "code",
      "source": [
        "scaler = StandardScaler()\n",
        "\n",
        "# Fit the scaler to the data\n",
        "scaler.fit(data)\n",
        "\n",
        "# Transform the data\n",
        "data_standardized = scaler.transform(data)\n",
        "\n",
        "# Convert the standardized data back to a DataFrame\n",
        "data_standardized = pd.DataFrame(data_standardized, columns=data.columns)"
      ],
      "metadata": {
        "id": "DujiXf2mK98m"
      },
      "execution_count": 15,
      "outputs": []
    },
    {
      "cell_type": "markdown",
      "source": [
        "##Confirming standardization and observing the difference in original and standardized data"
      ],
      "metadata": {
        "id": "t6sUPQcaZid4"
      }
    },
    {
      "cell_type": "code",
      "source": [
        "data.head(2)"
      ],
      "metadata": {
        "colab": {
          "base_uri": "https://localhost:8080/",
          "height": 205
        },
        "id": "dzprk-M4Imh8",
        "outputId": "10085385-889b-441b-f8f8-388c7d39de53"
      },
      "execution_count": 16,
      "outputs": [
        {
          "output_type": "execute_result",
          "data": {
            "text/plain": [
              "   Person_ID  AssessmentID  Case_ID  Agency_Text  LastName  FirstName  \\\n",
              "0      50844         57167    51950            0         0          0   \n",
              "1      50844         57167    51950            0         0          0   \n",
              "\n",
              "   Sex_Code_Text  Ethnic_Code_Text  DateOfBirth  ScaleSet_ID  ...  \\\n",
              "0              0                 0            0           22  ...   \n",
              "1              0                 0            0           22  ...   \n",
              "\n",
              "   Screening_Date  RecSupervisionLevel  RecSupervisionLevelText  Scale_ID  \\\n",
              "0               0                    1                        0         7   \n",
              "1               0                    1                        0         8   \n",
              "\n",
              "   DisplayText  RawScore  DecileScore  AssessmentType  IsCompleted  IsDeleted  \n",
              "0            0     -2.08            4               0            1          0  \n",
              "1            1     -1.06            2               0            1          0  \n",
              "\n",
              "[2 rows x 26 columns]"
            ],
            "text/html": [
              "\n",
              "  <div id=\"df-0d10404a-3890-4ebb-9c21-66a403a41800\">\n",
              "    <div class=\"colab-df-container\">\n",
              "      <div>\n",
              "<style scoped>\n",
              "    .dataframe tbody tr th:only-of-type {\n",
              "        vertical-align: middle;\n",
              "    }\n",
              "\n",
              "    .dataframe tbody tr th {\n",
              "        vertical-align: top;\n",
              "    }\n",
              "\n",
              "    .dataframe thead th {\n",
              "        text-align: right;\n",
              "    }\n",
              "</style>\n",
              "<table border=\"1\" class=\"dataframe\">\n",
              "  <thead>\n",
              "    <tr style=\"text-align: right;\">\n",
              "      <th></th>\n",
              "      <th>Person_ID</th>\n",
              "      <th>AssessmentID</th>\n",
              "      <th>Case_ID</th>\n",
              "      <th>Agency_Text</th>\n",
              "      <th>LastName</th>\n",
              "      <th>FirstName</th>\n",
              "      <th>Sex_Code_Text</th>\n",
              "      <th>Ethnic_Code_Text</th>\n",
              "      <th>DateOfBirth</th>\n",
              "      <th>ScaleSet_ID</th>\n",
              "      <th>...</th>\n",
              "      <th>Screening_Date</th>\n",
              "      <th>RecSupervisionLevel</th>\n",
              "      <th>RecSupervisionLevelText</th>\n",
              "      <th>Scale_ID</th>\n",
              "      <th>DisplayText</th>\n",
              "      <th>RawScore</th>\n",
              "      <th>DecileScore</th>\n",
              "      <th>AssessmentType</th>\n",
              "      <th>IsCompleted</th>\n",
              "      <th>IsDeleted</th>\n",
              "    </tr>\n",
              "  </thead>\n",
              "  <tbody>\n",
              "    <tr>\n",
              "      <th>0</th>\n",
              "      <td>50844</td>\n",
              "      <td>57167</td>\n",
              "      <td>51950</td>\n",
              "      <td>0</td>\n",
              "      <td>0</td>\n",
              "      <td>0</td>\n",
              "      <td>0</td>\n",
              "      <td>0</td>\n",
              "      <td>0</td>\n",
              "      <td>22</td>\n",
              "      <td>...</td>\n",
              "      <td>0</td>\n",
              "      <td>1</td>\n",
              "      <td>0</td>\n",
              "      <td>7</td>\n",
              "      <td>0</td>\n",
              "      <td>-2.08</td>\n",
              "      <td>4</td>\n",
              "      <td>0</td>\n",
              "      <td>1</td>\n",
              "      <td>0</td>\n",
              "    </tr>\n",
              "    <tr>\n",
              "      <th>1</th>\n",
              "      <td>50844</td>\n",
              "      <td>57167</td>\n",
              "      <td>51950</td>\n",
              "      <td>0</td>\n",
              "      <td>0</td>\n",
              "      <td>0</td>\n",
              "      <td>0</td>\n",
              "      <td>0</td>\n",
              "      <td>0</td>\n",
              "      <td>22</td>\n",
              "      <td>...</td>\n",
              "      <td>0</td>\n",
              "      <td>1</td>\n",
              "      <td>0</td>\n",
              "      <td>8</td>\n",
              "      <td>1</td>\n",
              "      <td>-1.06</td>\n",
              "      <td>2</td>\n",
              "      <td>0</td>\n",
              "      <td>1</td>\n",
              "      <td>0</td>\n",
              "    </tr>\n",
              "  </tbody>\n",
              "</table>\n",
              "<p>2 rows × 26 columns</p>\n",
              "</div>\n",
              "      <button class=\"colab-df-convert\" onclick=\"convertToInteractive('df-0d10404a-3890-4ebb-9c21-66a403a41800')\"\n",
              "              title=\"Convert this dataframe to an interactive table.\"\n",
              "              style=\"display:none;\">\n",
              "        \n",
              "  <svg xmlns=\"http://www.w3.org/2000/svg\" height=\"24px\"viewBox=\"0 0 24 24\"\n",
              "       width=\"24px\">\n",
              "    <path d=\"M0 0h24v24H0V0z\" fill=\"none\"/>\n",
              "    <path d=\"M18.56 5.44l.94 2.06.94-2.06 2.06-.94-2.06-.94-.94-2.06-.94 2.06-2.06.94zm-11 1L8.5 8.5l.94-2.06 2.06-.94-2.06-.94L8.5 2.5l-.94 2.06-2.06.94zm10 10l.94 2.06.94-2.06 2.06-.94-2.06-.94-.94-2.06-.94 2.06-2.06.94z\"/><path d=\"M17.41 7.96l-1.37-1.37c-.4-.4-.92-.59-1.43-.59-.52 0-1.04.2-1.43.59L10.3 9.45l-7.72 7.72c-.78.78-.78 2.05 0 2.83L4 21.41c.39.39.9.59 1.41.59.51 0 1.02-.2 1.41-.59l7.78-7.78 2.81-2.81c.8-.78.8-2.07 0-2.86zM5.41 20L4 18.59l7.72-7.72 1.47 1.35L5.41 20z\"/>\n",
              "  </svg>\n",
              "      </button>\n",
              "      \n",
              "  <style>\n",
              "    .colab-df-container {\n",
              "      display:flex;\n",
              "      flex-wrap:wrap;\n",
              "      gap: 12px;\n",
              "    }\n",
              "\n",
              "    .colab-df-convert {\n",
              "      background-color: #E8F0FE;\n",
              "      border: none;\n",
              "      border-radius: 50%;\n",
              "      cursor: pointer;\n",
              "      display: none;\n",
              "      fill: #1967D2;\n",
              "      height: 32px;\n",
              "      padding: 0 0 0 0;\n",
              "      width: 32px;\n",
              "    }\n",
              "\n",
              "    .colab-df-convert:hover {\n",
              "      background-color: #E2EBFA;\n",
              "      box-shadow: 0px 1px 2px rgba(60, 64, 67, 0.3), 0px 1px 3px 1px rgba(60, 64, 67, 0.15);\n",
              "      fill: #174EA6;\n",
              "    }\n",
              "\n",
              "    [theme=dark] .colab-df-convert {\n",
              "      background-color: #3B4455;\n",
              "      fill: #D2E3FC;\n",
              "    }\n",
              "\n",
              "    [theme=dark] .colab-df-convert:hover {\n",
              "      background-color: #434B5C;\n",
              "      box-shadow: 0px 1px 3px 1px rgba(0, 0, 0, 0.15);\n",
              "      filter: drop-shadow(0px 1px 2px rgba(0, 0, 0, 0.3));\n",
              "      fill: #FFFFFF;\n",
              "    }\n",
              "  </style>\n",
              "\n",
              "      <script>\n",
              "        const buttonEl =\n",
              "          document.querySelector('#df-0d10404a-3890-4ebb-9c21-66a403a41800 button.colab-df-convert');\n",
              "        buttonEl.style.display =\n",
              "          google.colab.kernel.accessAllowed ? 'block' : 'none';\n",
              "\n",
              "        async function convertToInteractive(key) {\n",
              "          const element = document.querySelector('#df-0d10404a-3890-4ebb-9c21-66a403a41800');\n",
              "          const dataTable =\n",
              "            await google.colab.kernel.invokeFunction('convertToInteractive',\n",
              "                                                     [key], {});\n",
              "          if (!dataTable) return;\n",
              "\n",
              "          const docLinkHtml = 'Like what you see? Visit the ' +\n",
              "            '<a target=\"_blank\" href=https://colab.research.google.com/notebooks/data_table.ipynb>data table notebook</a>'\n",
              "            + ' to learn more about interactive tables.';\n",
              "          element.innerHTML = '';\n",
              "          dataTable['output_type'] = 'display_data';\n",
              "          await google.colab.output.renderOutput(dataTable, element);\n",
              "          const docLink = document.createElement('div');\n",
              "          docLink.innerHTML = docLinkHtml;\n",
              "          element.appendChild(docLink);\n",
              "        }\n",
              "      </script>\n",
              "    </div>\n",
              "  </div>\n",
              "  "
            ]
          },
          "metadata": {},
          "execution_count": 16
        }
      ]
    },
    {
      "cell_type": "code",
      "source": [
        "data_standardized.head(2)"
      ],
      "metadata": {
        "colab": {
          "base_uri": "https://localhost:8080/",
          "height": 205
        },
        "id": "twB57fcNZNu2",
        "outputId": "22ba967e-4030-4de1-f0cf-1cc049394aab"
      },
      "execution_count": 17,
      "outputs": [
        {
          "output_type": "execute_result",
          "data": {
            "text/plain": [
              "   Person_ID  AssessmentID   Case_ID  Agency_Text  LastName  FirstName  \\\n",
              "0  -0.197668     -1.488225 -0.856896     -0.66979 -1.188958  -0.981519   \n",
              "1  -0.197668     -1.488225 -0.856896     -0.66979 -1.188958  -0.981519   \n",
              "\n",
              "   Sex_Code_Text  Ethnic_Code_Text  DateOfBirth  ScaleSet_ID  ...  \\\n",
              "0      -0.529649         -0.970135    -1.519199     0.193505  ...   \n",
              "1      -0.529649         -0.970135    -1.519199     0.193505  ...   \n",
              "\n",
              "   Screening_Date  RecSupervisionLevel  RecSupervisionLevelText  Scale_ID  \\\n",
              "0       -1.634664            -0.667274                -0.705161 -0.805387   \n",
              "1       -1.634664            -0.667274                -0.705161 -0.604040   \n",
              "\n",
              "   DisplayText  RawScore  DecileScore  AssessmentType  IsCompleted  IsDeleted  \n",
              "0    -1.224745 -0.710431     0.163608       -0.289469          0.0        0.0  \n",
              "1     0.000000 -0.609245    -0.600383       -0.289469          0.0        0.0  \n",
              "\n",
              "[2 rows x 26 columns]"
            ],
            "text/html": [
              "\n",
              "  <div id=\"df-5d3fd3a5-667c-49cc-a5a7-122b56ef6c46\">\n",
              "    <div class=\"colab-df-container\">\n",
              "      <div>\n",
              "<style scoped>\n",
              "    .dataframe tbody tr th:only-of-type {\n",
              "        vertical-align: middle;\n",
              "    }\n",
              "\n",
              "    .dataframe tbody tr th {\n",
              "        vertical-align: top;\n",
              "    }\n",
              "\n",
              "    .dataframe thead th {\n",
              "        text-align: right;\n",
              "    }\n",
              "</style>\n",
              "<table border=\"1\" class=\"dataframe\">\n",
              "  <thead>\n",
              "    <tr style=\"text-align: right;\">\n",
              "      <th></th>\n",
              "      <th>Person_ID</th>\n",
              "      <th>AssessmentID</th>\n",
              "      <th>Case_ID</th>\n",
              "      <th>Agency_Text</th>\n",
              "      <th>LastName</th>\n",
              "      <th>FirstName</th>\n",
              "      <th>Sex_Code_Text</th>\n",
              "      <th>Ethnic_Code_Text</th>\n",
              "      <th>DateOfBirth</th>\n",
              "      <th>ScaleSet_ID</th>\n",
              "      <th>...</th>\n",
              "      <th>Screening_Date</th>\n",
              "      <th>RecSupervisionLevel</th>\n",
              "      <th>RecSupervisionLevelText</th>\n",
              "      <th>Scale_ID</th>\n",
              "      <th>DisplayText</th>\n",
              "      <th>RawScore</th>\n",
              "      <th>DecileScore</th>\n",
              "      <th>AssessmentType</th>\n",
              "      <th>IsCompleted</th>\n",
              "      <th>IsDeleted</th>\n",
              "    </tr>\n",
              "  </thead>\n",
              "  <tbody>\n",
              "    <tr>\n",
              "      <th>0</th>\n",
              "      <td>-0.197668</td>\n",
              "      <td>-1.488225</td>\n",
              "      <td>-0.856896</td>\n",
              "      <td>-0.66979</td>\n",
              "      <td>-1.188958</td>\n",
              "      <td>-0.981519</td>\n",
              "      <td>-0.529649</td>\n",
              "      <td>-0.970135</td>\n",
              "      <td>-1.519199</td>\n",
              "      <td>0.193505</td>\n",
              "      <td>...</td>\n",
              "      <td>-1.634664</td>\n",
              "      <td>-0.667274</td>\n",
              "      <td>-0.705161</td>\n",
              "      <td>-0.805387</td>\n",
              "      <td>-1.224745</td>\n",
              "      <td>-0.710431</td>\n",
              "      <td>0.163608</td>\n",
              "      <td>-0.289469</td>\n",
              "      <td>0.0</td>\n",
              "      <td>0.0</td>\n",
              "    </tr>\n",
              "    <tr>\n",
              "      <th>1</th>\n",
              "      <td>-0.197668</td>\n",
              "      <td>-1.488225</td>\n",
              "      <td>-0.856896</td>\n",
              "      <td>-0.66979</td>\n",
              "      <td>-1.188958</td>\n",
              "      <td>-0.981519</td>\n",
              "      <td>-0.529649</td>\n",
              "      <td>-0.970135</td>\n",
              "      <td>-1.519199</td>\n",
              "      <td>0.193505</td>\n",
              "      <td>...</td>\n",
              "      <td>-1.634664</td>\n",
              "      <td>-0.667274</td>\n",
              "      <td>-0.705161</td>\n",
              "      <td>-0.604040</td>\n",
              "      <td>0.000000</td>\n",
              "      <td>-0.609245</td>\n",
              "      <td>-0.600383</td>\n",
              "      <td>-0.289469</td>\n",
              "      <td>0.0</td>\n",
              "      <td>0.0</td>\n",
              "    </tr>\n",
              "  </tbody>\n",
              "</table>\n",
              "<p>2 rows × 26 columns</p>\n",
              "</div>\n",
              "      <button class=\"colab-df-convert\" onclick=\"convertToInteractive('df-5d3fd3a5-667c-49cc-a5a7-122b56ef6c46')\"\n",
              "              title=\"Convert this dataframe to an interactive table.\"\n",
              "              style=\"display:none;\">\n",
              "        \n",
              "  <svg xmlns=\"http://www.w3.org/2000/svg\" height=\"24px\"viewBox=\"0 0 24 24\"\n",
              "       width=\"24px\">\n",
              "    <path d=\"M0 0h24v24H0V0z\" fill=\"none\"/>\n",
              "    <path d=\"M18.56 5.44l.94 2.06.94-2.06 2.06-.94-2.06-.94-.94-2.06-.94 2.06-2.06.94zm-11 1L8.5 8.5l.94-2.06 2.06-.94-2.06-.94L8.5 2.5l-.94 2.06-2.06.94zm10 10l.94 2.06.94-2.06 2.06-.94-2.06-.94-.94-2.06-.94 2.06-2.06.94z\"/><path d=\"M17.41 7.96l-1.37-1.37c-.4-.4-.92-.59-1.43-.59-.52 0-1.04.2-1.43.59L10.3 9.45l-7.72 7.72c-.78.78-.78 2.05 0 2.83L4 21.41c.39.39.9.59 1.41.59.51 0 1.02-.2 1.41-.59l7.78-7.78 2.81-2.81c.8-.78.8-2.07 0-2.86zM5.41 20L4 18.59l7.72-7.72 1.47 1.35L5.41 20z\"/>\n",
              "  </svg>\n",
              "      </button>\n",
              "      \n",
              "  <style>\n",
              "    .colab-df-container {\n",
              "      display:flex;\n",
              "      flex-wrap:wrap;\n",
              "      gap: 12px;\n",
              "    }\n",
              "\n",
              "    .colab-df-convert {\n",
              "      background-color: #E8F0FE;\n",
              "      border: none;\n",
              "      border-radius: 50%;\n",
              "      cursor: pointer;\n",
              "      display: none;\n",
              "      fill: #1967D2;\n",
              "      height: 32px;\n",
              "      padding: 0 0 0 0;\n",
              "      width: 32px;\n",
              "    }\n",
              "\n",
              "    .colab-df-convert:hover {\n",
              "      background-color: #E2EBFA;\n",
              "      box-shadow: 0px 1px 2px rgba(60, 64, 67, 0.3), 0px 1px 3px 1px rgba(60, 64, 67, 0.15);\n",
              "      fill: #174EA6;\n",
              "    }\n",
              "\n",
              "    [theme=dark] .colab-df-convert {\n",
              "      background-color: #3B4455;\n",
              "      fill: #D2E3FC;\n",
              "    }\n",
              "\n",
              "    [theme=dark] .colab-df-convert:hover {\n",
              "      background-color: #434B5C;\n",
              "      box-shadow: 0px 1px 3px 1px rgba(0, 0, 0, 0.15);\n",
              "      filter: drop-shadow(0px 1px 2px rgba(0, 0, 0, 0.3));\n",
              "      fill: #FFFFFF;\n",
              "    }\n",
              "  </style>\n",
              "\n",
              "      <script>\n",
              "        const buttonEl =\n",
              "          document.querySelector('#df-5d3fd3a5-667c-49cc-a5a7-122b56ef6c46 button.colab-df-convert');\n",
              "        buttonEl.style.display =\n",
              "          google.colab.kernel.accessAllowed ? 'block' : 'none';\n",
              "\n",
              "        async function convertToInteractive(key) {\n",
              "          const element = document.querySelector('#df-5d3fd3a5-667c-49cc-a5a7-122b56ef6c46');\n",
              "          const dataTable =\n",
              "            await google.colab.kernel.invokeFunction('convertToInteractive',\n",
              "                                                     [key], {});\n",
              "          if (!dataTable) return;\n",
              "\n",
              "          const docLinkHtml = 'Like what you see? Visit the ' +\n",
              "            '<a target=\"_blank\" href=https://colab.research.google.com/notebooks/data_table.ipynb>data table notebook</a>'\n",
              "            + ' to learn more about interactive tables.';\n",
              "          element.innerHTML = '';\n",
              "          dataTable['output_type'] = 'display_data';\n",
              "          await google.colab.output.renderOutput(dataTable, element);\n",
              "          const docLink = document.createElement('div');\n",
              "          docLink.innerHTML = docLinkHtml;\n",
              "          element.appendChild(docLink);\n",
              "        }\n",
              "      </script>\n",
              "    </div>\n",
              "  </div>\n",
              "  "
            ]
          },
          "metadata": {},
          "execution_count": 17
        }
      ]
    },
    {
      "cell_type": "markdown",
      "source": [
        "## Downsampling the datapoints to avoid crashing in iteration"
      ],
      "metadata": {
        "id": "U_vofJi9gaLg"
      }
    },
    {
      "cell_type": "code",
      "source": [
        "n_rows = 100\n",
        "\n",
        "# Randomly select n_rows from the dataframe\n",
        "data_standardized = data_standardized.sample(n_rows)"
      ],
      "metadata": {
        "id": "wBGoUohtgZuT"
      },
      "execution_count": 18,
      "outputs": []
    },
    {
      "cell_type": "markdown",
      "source": [
        "##Using Cosine similarity to find the proxy features similar to the protected features"
      ],
      "metadata": {
        "id": "5s6tAtiGZzbK"
      }
    },
    {
      "cell_type": "code",
      "source": [
        "pca = PCA(n_components=10)\n",
        "data_pca = pca.fit_transform(data_standardized)\n",
        "\n",
        "# Compute the cosine similarity between all pairs of columns\n",
        "similarity = pairwise_distances(data_standardized.drop(columns=protected_features.columns), metric='cosine')\n",
        "\n",
        "# Identify the columns that are most similar to the protected features\n",
        "# You can set a threshold to select the most similar features \n",
        "threshold = 0.9\n",
        "proxy_columns = [data_standardized.columns[i] for i in range(len(data_standardized.columns)) if any(similarity[i] < threshold) and data_standardized.columns[i] not in protected_features.columns ]"
      ],
      "metadata": {
        "id": "J8OY0A13dXB6"
      },
      "execution_count": 22,
      "outputs": []
    },
    {
      "cell_type": "code",
      "source": [
        "print(\"Proxy columns for protected features: \", proxy_columns)"
      ],
      "metadata": {
        "colab": {
          "base_uri": "https://localhost:8080/"
        },
        "id": "BDxQa1mpiWW-",
        "outputId": "6bb674a8-10aa-4cbb-a8aa-85bd85335316"
      },
      "execution_count": 23,
      "outputs": [
        {
          "output_type": "stream",
          "name": "stdout",
          "text": [
            "Proxy columns for protected features:  ['AssessmentID', 'Case_ID', 'Agency_Text', 'Sex_Code_Text', 'Ethnic_Code_Text', 'ScaleSet_ID', 'ScaleSet', 'AssessmentReason', 'Language', 'LegalStatus', 'CustodyStatus', 'MaritalStatus', 'Screening_Date', 'RecSupervisionLevel', 'RecSupervisionLevelText', 'Scale_ID', 'DisplayText', 'RawScore', 'DecileScore', 'AssessmentType', 'IsCompleted', 'IsDeleted']\n"
          ]
        }
      ]
    }
  ]
}